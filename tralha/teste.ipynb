{
 "cells": [
  {
   "cell_type": "code",
   "execution_count": null,
   "metadata": {},
   "outputs": [],
   "source": [
    "%matplotlib inline\n",
    "import numpy as np\n",
    "import scipy.ndimage as ndi\n",
    "import matplotlib.pyplot as plt\n",
    "import cv2"
   ]
  },
  {
   "cell_type": "code",
   "execution_count": null,
   "metadata": {},
   "outputs": [],
   "source": [
    "# Creating a sample 2D map of the room\n",
    "map = np.zeros((1000, 1000))\n",
    "# Assuming some gaps (passable areas)\n",
    "map[100:900, 100:900] = 1\n",
    "robot_size = 100  # in cm"
   ]
  },
  {
   "cell_type": "code",
   "execution_count": null,
   "metadata": {},
   "outputs": [],
   "source": [
    "# Create a convolved map where the robot can pass\n",
    "convolved_map = np.zeros_like(map)\n",
    "\n",
    "for i in range(map.shape[0] - robot_size):\n",
    "    for j in range(map.shape[1] - robot_size):\n",
    "        if np.all(map[i:i + robot_size, j:j + robot_size] == 1):\n",
    "            convolved_map[i + robot_size // 2, j + robot_size // 2] = 1\n",
    "\n",
    "# Plotting the original map and the convolved map\n",
    "plt.figure(figsize=(12, 6))\n",
    "plt.subplot(1, 2, 1)\n",
    "plt.title(\"Original Map\")\n",
    "plt.imshow(map, cmap='gray')\n",
    "plt.subplot(1, 2, 2)\n",
    "plt.title(\"Passable Areas\")\n",
    "plt.imshow(convolved_map, cmap='gray')\n",
    "plt.show()\n"
   ]
  },
  {
   "cell_type": "code",
   "execution_count": null,
   "metadata": {},
   "outputs": [],
   "source": [
    "\n",
    "# Create a kernel representing the robot's footprint\n",
    "kernel = np.ones((robot_size, robot_size))\n",
    "\n",
    "# Convolve the map with the kernel to find passable areas\n",
    "convolved_map = ndi.convolve(map, kernel, mode='constant', cval=0)\n",
    "\n",
    "# Only keep areas where the robot can fully pass (no walls in the footprint)\n",
    "passable_map = (convolved_map == robot_size**2).astype(int)\n",
    "\n"
   ]
  },
  {
   "cell_type": "code",
   "execution_count": null,
   "metadata": {},
   "outputs": [],
   "source": [
    "# Plotting the original map and the passable areas map\n",
    "plt.figure(figsize=(12, 6))\n",
    "plt.subplot(1, 2, 1)\n",
    "plt.title(\"Original Map\")\n",
    "plt.imshow(map, cmap='gray')\n",
    "plt.subplot(1, 2, 2)\n",
    "plt.title(\"Passable Areas\")\n",
    "plt.imshow(passable_map, cmap='gray')\n",
    "plt.show()\n"
   ]
  },
  {
   "cell_type": "code",
   "execution_count": null,
   "metadata": {},
   "outputs": [],
   "source": [
    "# Create the kernel representing the robot's footprint\n",
    "kernel = np.ones((robot_size, robot_size), np.uint8)\n",
    "\n",
    "# Use morphology to find passable areas\n",
    "passable_map = cv2.erode(map, kernel)"
   ]
  },
  {
   "cell_type": "code",
   "execution_count": null,
   "metadata": {},
   "outputs": [],
   "source": [
    "import numpy as np\n",
    "arr =np.array([-0.25, 0.5, 0.25, 0.5, 0.5, 0, 0.25, -0.5, -0.25, -0.5, -0.5, 0])\n",
    "arr / 8"
   ]
  },
  {
   "cell_type": "code",
   "execution_count": null,
   "metadata": {},
   "outputs": [],
   "source": [
    "plt.figure(figsize=(12, 6))\n",
    "plt.subplot(1, 2, 1)\n",
    "plt.title(\"Original Map\")\n",
    "plt.imshow(map, cmap='gray')\n",
    "plt.subplot(1, 2, 2)\n",
    "plt.title(\"Passable Areas\")\n",
    "plt.imshow(passable_map, cmap='gray')\n",
    "plt.show()"
   ]
  }
 ],
 "metadata": {
  "kernelspec": {
   "display_name": "Python 3",
   "language": "python",
   "name": "python3"
  },
  "language_info": {
   "codemirror_mode": {
    "name": "ipython",
    "version": 3
   },
   "file_extension": ".py",
   "mimetype": "text/x-python",
   "name": "python",
   "nbconvert_exporter": "python",
   "pygments_lexer": "ipython3",
   "version": "3.11.9"
  }
 },
 "nbformat": 4,
 "nbformat_minor": 2
}
